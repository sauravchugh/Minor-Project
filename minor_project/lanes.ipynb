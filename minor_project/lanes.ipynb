{
 "cells": [
  {
   "cell_type": "code",
   "execution_count": 1,
   "metadata": {},
   "outputs": [],
   "source": [
    "import cv2\n",
    "import numpy as np"
   ]
  },
  {
   "cell_type": "markdown",
   "metadata": {},
   "source": [
    " Now our next step is edge detection. In order to effectively detect an edge we need \n",
    "to follow the following step:\n",
    "    1. convert into grey image. Colourful image has the combination of 3 colors    red,green,blue\n",
    "    called 3 channel on the other hand grey image is one channel containing ony one color with\n",
    "    varying intensity from 0-255\n",
    "\n"
   ]
  },
  {
   "cell_type": "code",
   "execution_count": 2,
   "metadata": {},
   "outputs": [],
   "source": [
    "image=cv2.imread('test_image.jpg')# 0 for grey image\n",
    "lane_image=np.copy(image)\n",
    "gray=cv2.cvtColor(lane_image,cv2.COLOR_RGB2GRAY)\n",
    "cv2.imshow('result',gray)\n",
    "#cv2.waitKey(0)# for indefinite wait unless key stroke,for saving you can use imwrite()"
   ]
  },
  {
   "cell_type": "markdown",
   "metadata": {},
   "source": [
    "STEP2 :Nise reduction"
   ]
  },
  {
   "cell_type": "markdown",
   "metadata": {},
   "source": []
  },
  {
   "cell_type": "code",
   "execution_count": 3,
   "metadata": {},
   "outputs": [],
   "source": [
    "blur=cv2.GaussianBlur(gray,(5,5),0)\n",
    "cv2.imshow('blurred',blur)\n",
    "#cv2.waitKey(0)"
   ]
  },
  {
   "cell_type": "markdown",
   "metadata": {},
   "source": [
    "# Step3 : Applying canny algo....working of this algo is shown in ppt"
   ]
  },
  {
   "cell_type": "code",
   "execution_count": 19,
   "metadata": {},
   "outputs": [],
   "source": [
    "canny=cv2.Canny(blur,200,250)\n",
    "cv2.imwrite('c_200_250.jpg',canny)\n",
    "cv2.imshow('canny',canny)\n",
    "#cv2.waitKey(0)"
   ]
  },
  {
   "cell_type": "code",
   "execution_count": null,
   "metadata": {},
   "outputs": [],
   "source": []
  }
 ],
 "metadata": {
  "kernelspec": {
   "display_name": "Python 3",
   "language": "python",
   "name": "python3"
  },
  "language_info": {
   "codemirror_mode": {
    "name": "ipython",
    "version": 3
   },
   "file_extension": ".py",
   "mimetype": "text/x-python",
   "name": "python",
   "nbconvert_exporter": "python",
   "pygments_lexer": "ipython3",
   "version": "3.6.9"
  }
 },
 "nbformat": 4,
 "nbformat_minor": 4
}
